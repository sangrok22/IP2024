{
 "cells": [
  {
   "cell_type": "code",
   "execution_count": 61,
   "metadata": {},
   "outputs": [],
   "source": [
    "import numpy as np\n",
    "import cv2"
   ]
  },
  {
   "cell_type": "code",
   "execution_count": 62,
   "metadata": {},
   "outputs": [
    {
     "name": "stdout",
     "output_type": "stream",
     "text": [
      "End of video\n"
     ]
    }
   ],
   "source": [
    "def run_main():\n",
    "    \n",
    "    cap = cv2.VideoCapture('C:/Users/lg/Desktop/영상처리/coins.mp4') \n",
    "    \n",
    "    if not cap.isOpened():\n",
    "        print(\"Error: Cannot open video file\")\n",
    "        return\n",
    "    \n",
    "    cap.set(cv2.CAP_PROP_FRAME_WIDTH, 1280)  \n",
    "    cap.set(cv2.CAP_PROP_FRAME_HEIGHT, 720)\n",
    "\n",
    "    while True:\n",
    "        ret, frame = cap.read()\n",
    "        if not ret:\n",
    "            print(\"End of video\")\n",
    "            break\n",
    "        \n",
    "        roi = frame[170:900, 0:650]\n",
    "        gray = cv2.cvtColor(roi, cv2.COLOR_BGR2GRAY)\n",
    "        \n",
    "        gray_blur = cv2.GaussianBlur(gray, (15, 15), 0)\n",
    "        thresh = cv2.adaptiveThreshold(\n",
    "            gray_blur, 255, cv2.ADAPTIVE_THRESH_GAUSSIAN_C,\n",
    "            cv2.THRESH_BINARY_INV, 11, 1\n",
    "        )\n",
    "        \n",
    "        kernel = np.ones((3, 3), np.uint8)\n",
    "        closing = cv2.morphologyEx(thresh, cv2.MORPH_CLOSE, kernel, iterations=4)\n",
    "        cont_img = closing.copy()\n",
    "        contours, hierarchy = cv2.findContours(cont_img, cv2.RETR_EXTERNAL, cv2.CHAIN_APPROX_SIMPLE)\n",
    "\n",
    "        for cnt in contours:\n",
    "            area = cv2.contourArea(cnt)\n",
    "            if area < 3000:\n",
    "                continue\n",
    "            if len(cnt) < 5:\n",
    "                continue\n",
    "            ellipse = cv2.fitEllipse(cnt)\n",
    "            cv2.ellipse(roi, ellipse, (255, 0, 0), 2)\n",
    "        \n",
    "        cv2.imshow('Contours', roi)\n",
    "\n",
    "        if cv2.waitKey(30) & 0xFF == ord('q'):\n",
    "            break\n",
    "\n",
    "    cap.release()\n",
    "    cv2.destroyAllWindows()\n",
    "\n",
    "if __name__ == \"__main__\":\n",
    "    run_main()"
   ]
  }
 ],
 "metadata": {
  "kernelspec": {
   "display_name": "IP2024",
   "language": "python",
   "name": "python3"
  },
  "language_info": {
   "codemirror_mode": {
    "name": "ipython",
    "version": 3
   },
   "file_extension": ".py",
   "mimetype": "text/x-python",
   "name": "python",
   "nbconvert_exporter": "python",
   "pygments_lexer": "ipython3",
   "version": "3.8.19"
  }
 },
 "nbformat": 4,
 "nbformat_minor": 2
}
