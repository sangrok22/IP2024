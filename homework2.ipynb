{
 "cells": [
  {
   "cell_type": "code",
   "execution_count": 43,
   "metadata": {},
   "outputs": [],
   "source": [
    "import cv2\n",
    "import numpy as np"
   ]
  },
  {
   "cell_type": "code",
   "execution_count": 44,
   "metadata": {},
   "outputs": [],
   "source": [
    "def nothing(x):\n",
    "    pass"
   ]
  },
  {
   "cell_type": "code",
   "execution_count": 45,
   "metadata": {},
   "outputs": [],
   "source": [
    "cap  =  cv2.VideoCapture(0)\n",
    "\n",
    "cv2.namedWindow(\"Trackbars\")\n",
    "\n",
    "cv2.createTrackbar(\"L-H\",\"Trackbars\",0,180,nothing)\n",
    "cv2.createTrackbar(\"L-S\",\"Trackbars\",0,255,nothing)\n",
    "cv2.createTrackbar(\"L-V\",\"Trackbars\",0,255,nothing)\n",
    "cv2.createTrackbar(\"U-H\",\"Trackbars\",0,180,nothing)\n",
    "\n",
    "u_h =80\n",
    "while True:\n",
    "    _,frame = cap.read()\n",
    "    hsv = cv2.cvtColor(frame, cv2.COLOR_RGB2HSV)\n",
    "    \n",
    "    l_h = cv2.getTrackbarPos(\"L-H\",\"Trackbars\")\n",
    "    l_s = cv2.getTrackbarPos(\"L-S\",\"Trackbars\")\n",
    "    l_v = cv2.getTrackbarPos(\"L-V\",\"Trackbars\")\n",
    "    u_h = cv2.getTrackbarPos(\"U-H\",\"Trackbars\")\n",
    "    \n",
    "    lower_red = np.array([l_h,l_s,l_v])\n",
    "    upper_red = np.array([u_h,255,255])\n",
    "    mask = cv2.inRange(hsv,lower_red,upper_red)\n",
    "    \n",
    "    result = cv2.bitwise_and(frame,frame,mask = mask)\n",
    "    \n",
    "    \n",
    "    cv2.imshow('frame', frame)\n",
    "    cv2.imshow('mask',mask)\n",
    "    cv2.imshow('result',result)\n",
    "    \n",
    "    key = cv2.waitKey(1)\n",
    "    if key == 27:\n",
    "        break\n",
    "    \n",
    "cap.release()\n",
    "cv2.destroyAllWindows()"
   ]
  }
 ],
 "metadata": {
  "kernelspec": {
   "display_name": "IP2024",
   "language": "python",
   "name": "python3"
  },
  "language_info": {
   "codemirror_mode": {
    "name": "ipython",
    "version": 3
   },
   "file_extension": ".py",
   "mimetype": "text/x-python",
   "name": "python",
   "nbconvert_exporter": "python",
   "pygments_lexer": "ipython3",
   "version": "3.8.19"
  }
 },
 "nbformat": 4,
 "nbformat_minor": 2
}
