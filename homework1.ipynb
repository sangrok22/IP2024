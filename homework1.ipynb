{
 "cells": [
  {
   "cell_type": "code",
   "execution_count": 1,
   "metadata": {},
   "outputs": [],
   "source": [
    "import cv2\n",
    "import  numpy  as  np"
   ]
  },
  {
   "cell_type": "code",
   "execution_count": 2,
   "metadata": {},
   "outputs": [],
   "source": [
    "def nothing(x):\n",
    "    pass\n",
    "drawing = False  # true if mouse is pressed\n",
    "img = cv2.imread('car-49278_1280.jpg')\n",
    "ix, iy = -1, -1\n",
    "cv2.namedWindow('image')\n",
    "cv2.createTrackbar('value', 'image',0,100,nothing)\n",
    "\n",
    "# mouse callback function\n",
    "def draw_rect(event, x, y, flags, param):\n",
    "    global ix, iy, drawing\n",
    "    if event == cv2.EVENT_LBUTTONDOWN:\n",
    "        drawing = True\n",
    "        ix, iy = x, y\n",
    "    elif event == cv2.EVENT_MOUSEMOVE:\n",
    "        if drawing == True:\n",
    "            temp_img = img.copy() \n",
    "            cv2.rectangle(temp_img, (ix, iy), (x, y), (0, 0, 255), 2) \n",
    "            cv2.imshow('image', temp_img)\n",
    "    \n",
    "    elif event == cv2.EVENT_LBUTTONUP:\n",
    "        drawing = False\n",
    "        value = cv2.getTrackbarPos('value', 'image') \n",
    "        cv2.putText(img, \"Mouse Position (\"+str(ix)+\",\"+str(iy)+\")\",(10,50),cv2.FONT_HERSHEY_SIMPLEX,0.6, (0,0,0), 1,cv2.LINE_AA)    \n",
    "        cv2.putText(img, \"-  (\"+str(x)+\",\"+str(y)+\")\",(270,50),cv2.FONT_HERSHEY_SIMPLEX,0.6, (0,0,0), 1,cv2.LINE_AA)\n",
    "        cv2.putText(img, \"-  \"+str(value), (410, 50), cv2.FONT_HERSHEY_SIMPLEX, 0.6, (0, 0, 0), 1, cv2.LINE_AA)\n",
    "        # 선택한 영역에 대해 빨간색 값을 증가시킴\n",
    "        if ix != -1 and iy != -1:\n",
    "            # ROI (Region of Interest) 추출\n",
    "            roi = img[iy:y, ix:x]\n",
    "            if roi.size != 0:  # ROI가 비어 있지 않은 경우만 처리\n",
    "                # 채널 분리\n",
    "                b, g, r = cv2.split(roi)\n",
    "                # 빨간색 값만 증가 (최대값은 255로 제한)\n",
    "                r = cv2.add(r, 100)\n",
    "                # 채널 병합 후 원본 이미지에 다시 적용\n",
    "                img[iy:y, ix:x] = cv2.merge((b, g, r))\n",
    "        \n",
    "cv2.namedWindow('image')\n",
    "cv2.setMouseCallback('image', draw_rect)\n",
    "while True:\n",
    "    cv2.imshow('image', img)\n",
    "    k = cv2.waitKey(1) & 0xFF\n",
    "    if k == 27:  # ESC 키를 누르면 종료\n",
    "        break\n",
    "\n",
    "\n",
    "cv2.destroyAllWindows()"
   ]
  }
 ],
 "metadata": {
  "kernelspec": {
   "display_name": "IAI2024",
   "language": "python",
   "name": "python3"
  },
  "language_info": {
   "codemirror_mode": {
    "name": "ipython",
    "version": 3
   },
   "file_extension": ".py",
   "mimetype": "text/x-python",
   "name": "python",
   "nbconvert_exporter": "python",
   "pygments_lexer": "ipython3",
   "version": "3.8.19"
  }
 },
 "nbformat": 4,
 "nbformat_minor": 2
}
