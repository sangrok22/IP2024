{
 "cells": [
  {
   "cell_type": "markdown",
   "metadata": {},
   "source": [
    "##### Chap 1.3.2 Arithmetic Operations on Images"
   ]
  },
  {
   "cell_type": "code",
   "execution_count": 1,
   "metadata": {},
   "outputs": [],
   "source": [
    "import cv2\n",
    "import numpy as np\n",
    "from matplotlib import pyplot as plt"
   ]
  },
  {
   "cell_type": "code",
   "execution_count": 26,
   "metadata": {},
   "outputs": [],
   "source": [
    "img1  =  cv2.imread('car-49278_12802.jpg')\n",
    "img2  =  cv2.imread('openCV3.png')"
   ]
  },
  {
   "cell_type": "code",
   "execution_count": 27,
   "metadata": {},
   "outputs": [],
   "source": [
    "dst  =  cv2.addWeighted(img1,0.7,img2,0.3,0)\n",
    "cv2.imshow('dst',dst) \n",
    "cv2.waitKey(0)\n",
    "cv2.destroyAllWindows()"
   ]
  },
  {
   "cell_type": "code",
   "execution_count": null,
   "metadata": {},
   "outputs": [],
   "source": [
    "\n",
    "plt.imshow(dst, interpolation = 'bicubic')\n",
    "\n",
    "plt.show()"
   ]
  },
  {
   "cell_type": "code",
   "execution_count": null,
   "metadata": {},
   "outputs": [],
   "source": [
    "img1  =  cv2.imread('car-49278_12802.jpg')\n",
    "img2  =  cv2.imread('openCV3.png')\n",
    "#  I  want  to  put  logo  on  top-left  corner,  So  I  create  a  ROI \n",
    "rows,cols,channels  =  img2.shape\n",
    "roi  =  img1[0:rows,  0:cols  ]\n",
    "#  Now  create  a  mask  of  logo  and  create  its  inverse  mask  also \n",
    "img2gray  =  cv2.cvtColor(img2,cv2.COLOR_BGR2GRAY)\n",
    "ret,  mask  =  cv2.threshold(img2gray,  10,  255,  cv2.THRESH_BINARY) \n",
    "mask_inv  =  cv2.bitwise_not(mask)\n",
    "#  Now  black-out  the  area  of  logo  in  ROI\n",
    "img1_bg  =  cv2.bitwise_and(roi,roi,mask  =  mask_inv)\n",
    "#  Take  only  region  of  logo  from  logo  image. img2_fg  =  cv2.bitwise_and(img2,img2,mask  =  mask)\n",
    "#  Put  logo  in  ROI  and  modify  the  main  image dst  =  cv2.add(img1_bg,img2_fg)\n",
    "img1[0:rows,  0:cols  ]  =  dst\n",
    "cv2.imshow('res',img1) \n",
    "cv2.waitKey(0)\n",
    "cv2.destroyAllWindows()"
   ]
  },
  {
   "cell_type": "code",
   "execution_count": 23,
   "metadata": {},
   "outputs": [],
   "source": [
    "img1 = cv2.imread('car-49278_1280.jpg')"
   ]
  },
  {
   "cell_type": "code",
   "execution_count": 20,
   "metadata": {},
   "outputs": [],
   "source": [
    "def  nothing(x):\n",
    "    pass"
   ]
  },
  {
   "cell_type": "code",
   "execution_count": null,
   "metadata": {},
   "outputs": [],
   "source": [
    "cv2.namedWindow('image')\n",
    "#  create  trackbars  for  color  change\n",
    "cv2.createTrackbar('median','image',0,10,nothing) \n",
    "mimg1 = img1\n",
    "#  create  switch  for  ON/OFF  functionality switch  =  '0  :  OFF  \\n1  :  ON'\n",
    "\n",
    "while(1):\n",
    "    cv2.imshow('image',mimg1)\n",
    "    k  =  cv2.waitKey(1)  &  0xFF\n",
    "    if  k  ==  27:\n",
    "        break\n",
    "    #  get  current  positions  of  four  trackbars \n",
    "    m=cv2.getTrackbarPos('median','image')\n",
    "    mimg1 = cv2.medianBlur(img1,2*m+1)\n",
    "    \n",
    "cv2.destroyAllWindows()"
   ]
  },
  {
   "cell_type": "code",
   "execution_count": null,
   "metadata": {},
   "outputs": [],
   "source": [
    "img1  =  cv2.imread('car-49278_12802.jpg')\n",
    "img2  =  cv2.imread('openCV3.png')"
   ]
  },
  {
   "cell_type": "code",
   "execution_count": 30,
   "metadata": {},
   "outputs": [
    {
     "ename": "error",
     "evalue": "OpenCV(4.10.0) D:\\a\\opencv-python\\opencv-python\\opencv\\modules\\highgui\\src\\window_w32.cpp:2561: error: (-27:Null pointer) NULL window: 'image' in function 'cvGetTrackbarPos'\n",
     "output_type": "error",
     "traceback": [
      "\u001b[1;31m---------------------------------------------------------------------------\u001b[0m",
      "\u001b[1;31merror\u001b[0m                                     Traceback (most recent call last)",
      "Cell \u001b[1;32mIn[30], line 12\u001b[0m\n\u001b[0;32m     10\u001b[0m         \u001b[38;5;28;01mbreak\u001b[39;00m\n\u001b[0;32m     11\u001b[0m     \u001b[38;5;66;03m#  get  current  positions  of  four  trackbars \u001b[39;00m\n\u001b[1;32m---> 12\u001b[0m     w\u001b[38;5;241m=\u001b[39m\u001b[43mcv2\u001b[49m\u001b[38;5;241;43m.\u001b[39;49m\u001b[43mgetTrackbarPos\u001b[49m\u001b[43m(\u001b[49m\u001b[38;5;124;43m'\u001b[39;49m\u001b[38;5;124;43madd\u001b[39;49m\u001b[38;5;124;43m'\u001b[39;49m\u001b[43m,\u001b[49m\u001b[38;5;124;43m'\u001b[39;49m\u001b[38;5;124;43mimage\u001b[39;49m\u001b[38;5;124;43m'\u001b[39;49m\u001b[43m)\u001b[49m\n\u001b[0;32m     13\u001b[0m     dst \u001b[38;5;241m=\u001b[39m cv2\u001b[38;5;241m.\u001b[39maddWeighted(img1,\u001b[38;5;241m1\u001b[39m\u001b[38;5;241m-\u001b[39mw\u001b[38;5;241m/\u001b[39m\u001b[38;5;241m100.0\u001b[39m,img2,w\u001b[38;5;241m/\u001b[39m\u001b[38;5;241m100.\u001b[39m,\u001b[38;5;241m0\u001b[39m)\n\u001b[0;32m     15\u001b[0m cv2\u001b[38;5;241m.\u001b[39mdestroyAllWindows()\n",
      "\u001b[1;31merror\u001b[0m: OpenCV(4.10.0) D:\\a\\opencv-python\\opencv-python\\opencv\\modules\\highgui\\src\\window_w32.cpp:2561: error: (-27:Null pointer) NULL window: 'image' in function 'cvGetTrackbarPos'\n"
     ]
    }
   ],
   "source": [
    "cv2.namedWindow('image')\n",
    "#  create  trackbars  for  color  change\n",
    "cv2.createTrackbar('add','image',0,100,nothing) \n",
    "dst  =  cv2.addWeighted(img1,1.0,img2,0.0,0)\n",
    "\n",
    "while(1):\n",
    "    cv2.imshow('image',dst)\n",
    "    k  =  cv2.waitKey(1)  &  0xFF\n",
    "    if  k  ==  27:\n",
    "        break\n",
    "    #  get  current  positions  of  four  trackbars \n",
    "    w=cv2.getTrackbarPos('add','image')\n",
    "    dst = cv2.addWeighted(img1,1-w/100.0,img2,w/100.,0)\n",
    "    \n",
    "cv2.destroyAllWindows()\n",
    "\n"
   ]
  },
  {
   "cell_type": "code",
   "execution_count": null,
   "metadata": {},
   "outputs": [],
   "source": []
  }
 ],
 "metadata": {
  "kernelspec": {
   "display_name": "IP2024",
   "language": "python",
   "name": "python3"
  },
  "language_info": {
   "codemirror_mode": {
    "name": "ipython",
    "version": 3
   },
   "file_extension": ".py",
   "mimetype": "text/x-python",
   "name": "python",
   "nbconvert_exporter": "python",
   "pygments_lexer": "ipython3",
   "version": "3.8.19"
  }
 },
 "nbformat": 4,
 "nbformat_minor": 2
}
