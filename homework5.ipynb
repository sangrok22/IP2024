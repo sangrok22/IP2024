{
 "cells": [
  {
   "cell_type": "code",
   "execution_count": null,
   "metadata": {},
   "outputs": [],
   "source": [
    "import numpy as np\n",
    "import cv2"
   ]
  },
  {
   "cell_type": "code",
   "execution_count": null,
   "metadata": {},
   "outputs": [],
   "source": [
    "img1 cv2.imread(\"the_book_thief.jpg\", cv2.IMREAD_GRAYSCALE)\n",
    "img2 cv2.imread(\"me_holding_book.jpg\", cv2.IMREAD_GRAYSCALE)\n",
    "\n",
    "orb cv2.ORB create()\n",
    "kpl, deslorb.detectAndCompute (img1, None)\n",
    "kp2, des2 orb.detectAndCompute (img2, None)"
   ]
  }
 ],
 "metadata": {
  "kernelspec": {
   "display_name": "IP2024",
   "language": "python",
   "name": "python3"
  },
  "language_info": {
   "name": "python",
   "version": "3.8.19"
  }
 },
 "nbformat": 4,
 "nbformat_minor": 2
}
